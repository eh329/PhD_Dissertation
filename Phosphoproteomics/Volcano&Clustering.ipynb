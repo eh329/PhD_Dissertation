{
 "cells": [
  {
   "cell_type": "code",
   "execution_count": null,
   "id": "afd695b4",
   "metadata": {},
   "outputs": [],
   "source": [
    "# Import the libraries\n",
    "\n",
    "import numpy as np\n",
    "import pandas as pd\n",
    "import seaborn as sns\n",
    "import matplotlib.pyplot as plt\n",
    "%matplotlib inline\n",
    "\n",
    "from sklearn.preprocessing import scale\n",
    "from sklearn.cluster import KMeans, k_means\n",
    "from sklearn.decomposition import PCA\n",
    "from scipy.spatial.distance import pdist, squareform\n",
    "from plotly import graph_objects\n",
    "from plotly import express\n",
    "from plotly import figure_factory"
   ]
  },
  {
   "cell_type": "code",
   "execution_count": null,
   "id": "b178676f",
   "metadata": {},
   "outputs": [],
   "source": [
    "podo_data = pd.read_excel(\"C4C3-Podo-NewHeader.xlsx\", header = [0, 1, 2])\n",
    "podo_data.head()"
   ]
  },
  {
   "cell_type": "code",
   "execution_count": null,
   "id": "9c3f52a6",
   "metadata": {},
   "outputs": [],
   "source": [
    "podo_df = podo_data.copy()\n",
    "print(\"Podo dataset:\", podo_df.shape)"
   ]
  },
  {
   "cell_type": "code",
   "execution_count": null,
   "id": "9c3ce8c3",
   "metadata": {},
   "outputs": [],
   "source": [
    "for col in podo_df.columns:\n",
    "    print(col[0], \"/-/\", col[1], \"/-/\", col[2], \" - & Number of NaN:\", podo_df[col[0]][col[1]].isnull().sum()[0], \"- & dtype:\", podo_df[col].dtypes)\n",
    "    print(\"----------------\")"
   ]
  },
  {
   "cell_type": "code",
   "execution_count": null,
   "id": "cefd91b9",
   "metadata": {},
   "outputs": [],
   "source": [
    "podo_df = podo_df[podo_df[\"Accession\"][\"Protein names\"][\"Total_Inf_Accession_Protein.names\"].notna()]\n",
    "podo_df = podo_df[podo_df[\"Phospho ID Metrics\"][\"Phospho Sites\"][\"Phos_Inf_Phospho.ID.Metrics_Phosphosites\"].notna()]\n",
    "podo_df = podo_df[podo_df[\"No Header\"][\"Phosphopeptide Present\"][\"Both_Phosphopeptide.Present\"] == True]\n",
    "podo_df = podo_df[podo_df[\"Database\"][\"Human\"][\"Total_Database_Human\"] == True]\n",
    "podo_df.shape"
   ]
  },
  {
   "cell_type": "code",
   "execution_count": null,
   "id": "ad22d947",
   "metadata": {},
   "outputs": [],
   "source": [
    "for col in podo_df.columns:\n",
    "    print(col[0], \"/-/\", col[1], \"/-/\", col[2], \" - & Number of NaN:\", podo_df[col[0]][col[1]].isnull().sum()[0], \"- & dtype:\", podo_df[col].dtypes)\n",
    "    print(\"----------------\")"
   ]
  }
 ],
 "metadata": {
  "kernelspec": {
   "display_name": "Python 3 (ipykernel)",
   "language": "python",
   "name": "python3"
  },
  "language_info": {
   "codemirror_mode": {
    "name": "ipython",
    "version": 3
   },
   "file_extension": ".py",
   "mimetype": "text/x-python",
   "name": "python",
   "nbconvert_exporter": "python",
   "pygments_lexer": "ipython3",
   "version": "3.10.3"
  }
 },
 "nbformat": 4,
 "nbformat_minor": 5
}
