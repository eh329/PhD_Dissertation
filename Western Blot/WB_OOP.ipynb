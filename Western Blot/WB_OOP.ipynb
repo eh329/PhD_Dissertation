{
 "cells": [
  {
   "cell_type": "code",
   "execution_count": null,
   "metadata": {},
   "outputs": [],
   "source": [
    "# Import the libraries\n",
    "\n",
    "import os\n",
    "import matplotlib.pyplot as plt\n",
    "import numpy as np\n",
    "from skimage import measure, io, img_as_ubyte\n",
    "from skimage.color import rgb2gray, rgba2rgb\n",
    "from skimage.filters import threshold_otsu"
   ]
  },
  {
   "cell_type": "code",
   "execution_count": null,
   "metadata": {},
   "outputs": [],
   "source": [
    "class WesternBlotQuantification():\n",
    "    \n",
    "    CONTROL = {}\n",
    "    EXPERIMENTAL = {}\n",
    "    \n",
    "    def __init__(self, conc, blot_img, control = False):\n",
    "        self.conc = conc\n",
    "        self.blot_img = blot_img\n",
    "        self.control = control\n",
    "        \n",
    "    def read_gray(self):\n",
    "        return img_as_ubyte(rgb2gray(rgba2rgb(io.imread(self.blot_img))))\n",
    "    \n",
    "    def show_gray(self):\n",
    "        plt.imshow(self.read_gray())\n",
    "        plt.show()"
   ]
  }
 ],
 "metadata": {
  "kernelspec": {
   "display_name": "Python 3",
   "language": "python",
   "name": "python3"
  },
  "language_info": {
   "codemirror_mode": {
    "name": "ipython",
    "version": 3
   },
   "file_extension": ".py",
   "mimetype": "text/x-python",
   "name": "python",
   "nbconvert_exporter": "python",
   "pygments_lexer": "ipython3",
   "version": "3.8.3"
  }
 },
 "nbformat": 4,
 "nbformat_minor": 4
}
