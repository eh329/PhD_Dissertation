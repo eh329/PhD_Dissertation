{
 "cells": [
  {
   "cell_type": "code",
   "execution_count": null,
   "metadata": {},
   "outputs": [],
   "source": [
    "# Import the libraries\n",
    "\n",
    "import os\n",
    "import matplotlib.pyplot as plt\n",
    "import numpy as np\n",
    "from skimage import measure, io, img_as_ubyte\n",
    "from skimage.color import rgb2gray, rgba2rgb\n",
    "from skimage.filters import threshold_otsu"
   ]
  },
  {
   "cell_type": "code",
   "execution_count": null,
   "metadata": {},
   "outputs": [],
   "source": [
    "class WesternBlotQuantification():\n",
    "    \n",
    "    CONTROL = {}\n",
    "    EXPERIMENTAL = {}\n",
    "    \n",
    "    def __init__(self, conc, blot_img, control = None):\n",
    "        \"\"\"\n",
    "        concs: List, a list of concentrations (or different timing) used in the experiment.\n",
    "        blot_img: Image of the blot.\n",
    "        control: Image of a blot for normalazation. It could be GAPDH or B Actin or something else.\n",
    "        If total measurements are not required, do not add it. By defautl, its value is none.\n",
    "        \"\"\"\n",
    "        self.conc = conc\n",
    "        self.blot_img = blot_img\n",
    "        self.control = control\n",
    "        \n",
    "    def read_gray(self):\n",
    "        \"\"\"\n",
    "        Reads the blot image as grey.\n",
    "        \"\"\"\n",
    "        if self.blot_img.split(\".\")[-1] == \"jpg\":\n",
    "            return img_as_ubyte(rgb2gray(io.imread(self.blot_img)))\n",
    "    \n",
    "        else:\n",
    "            return img_as_ubyte(rgb2gray(rgba2rgb(io.imread(self.blot_img))))\n",
    "    \n",
    "    def show_gray(self):\n",
    "        \"\"\"\n",
    "        Displays the blot image in grey format.\n",
    "        \"\"\"\n",
    "        plt.imshow(self.read_gray())\n",
    "        plt.show()\n",
    "        \n",
    "    def thresh_img(self):\n",
    "        \"\"\"\n",
    "        Thresholds the grey image with threshod otsu algorithm.\n",
    "        \"\"\"\n",
    "        segmented = self.read_gray() < threshold_otsu(self.read_gray())\n",
    "        return segmented\n",
    "    \n",
    "    def show_thresh_img(self):\n",
    "        \"\"\"\n",
    "        Displays the thresholded image.\n",
    "        \"\"\"\n",
    "        plt.imshow(self.thresh_img())\n",
    "        plt.show()\n",
    "        \n",
    "    def band_labeling(self):\n",
    "        \"\"\"\n",
    "        Labels the objects in the image.\n",
    "        \"\"\"\n",
    "        return measure.label(self.thresh_img(), connectivity = self.read_gray().ndim) \n",
    "    \n",
    "    def show_labeled(self):\n",
    "        \"\"\"\n",
    "        Displays the labeled image.\n",
    "        \"\"\"\n",
    "        plt.imshow(self.band_labeling())\n",
    "        plt.show()"
   ]
  }
 ],
 "metadata": {
  "kernelspec": {
   "display_name": "Python 3",
   "language": "python",
   "name": "python3"
  },
  "language_info": {
   "codemirror_mode": {
    "name": "ipython",
    "version": 3
   },
   "file_extension": ".py",
   "mimetype": "text/x-python",
   "name": "python",
   "nbconvert_exporter": "python",
   "pygments_lexer": "ipython3",
   "version": "3.8.3"
  }
 },
 "nbformat": 4,
 "nbformat_minor": 4
}
