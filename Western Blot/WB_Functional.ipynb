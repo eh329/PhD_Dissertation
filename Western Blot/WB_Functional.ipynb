{
 "cells": [
  {
   "cell_type": "code",
   "execution_count": null,
   "metadata": {},
   "outputs": [],
   "source": [
    "# Import the libraries\n",
    "\n",
    "import matplotlib.pyplot as plt\n",
    "import numpy as np\n",
    "from skimage import measure, io, img_as_ubyte\n",
    "from skimage.color import rgb2gray, rgba2rgb\n",
    "from skimage.filters import threshold_otsu"
   ]
  },
  {
   "cell_type": "code",
   "execution_count": null,
   "metadata": {},
   "outputs": [],
   "source": [
    "def gray_img(img):\n",
    "    \"\"\"\n",
    "    Takes an image as the argument, returns it in grey scale.\n",
    "    \n",
    "    Parameters\n",
    "    ----------\n",
    "    img: The western blot image in the directory\n",
    "    \n",
    "    Returns\n",
    "    ----------\n",
    "    Same image in grey scale\n",
    "    \n",
    "    \"\"\"\n",
    "    return img_as_ubyte(rgb2gray(rgba2rgb(io.imread(img))))"
   ]
  },
  {
   "cell_type": "code",
   "execution_count": null,
   "metadata": {},
   "outputs": [],
   "source": [
    "def thresh_img(grey_img):\n",
    "    \"\"\"\n",
    "    Takes an grey scale image, returns threshold image with Otsu algorithm.\n",
    "    \n",
    "    Parameters\n",
    "    ----------\n",
    "    grey_img: the grey scale image of western blot provided by gray_img function\n",
    "    \n",
    "    Returns\n",
    "    ----------\n",
    "    Thresholded image from the grey scale image provided.\n",
    "    \n",
    "    \"\"\"\n",
    "    \n",
    "    segmented = grey_img < threshold_otsu(grey_img)\n",
    "    return segmented"
   ]
  }
 ],
 "metadata": {
  "kernelspec": {
   "display_name": "Python 3",
   "language": "python",
   "name": "python3"
  },
  "language_info": {
   "codemirror_mode": {
    "name": "ipython",
    "version": 3
   },
   "file_extension": ".py",
   "mimetype": "text/x-python",
   "name": "python",
   "nbconvert_exporter": "python",
   "pygments_lexer": "ipython3",
   "version": "3.8.3"
  }
 },
 "nbformat": 4,
 "nbformat_minor": 4
}
