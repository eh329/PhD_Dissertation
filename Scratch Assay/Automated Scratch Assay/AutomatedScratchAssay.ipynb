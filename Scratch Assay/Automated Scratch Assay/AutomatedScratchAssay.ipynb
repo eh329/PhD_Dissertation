{
 "cells": [
  {
   "cell_type": "code",
   "execution_count": null,
   "metadata": {},
   "outputs": [],
   "source": [
    "# import necessary libraries\n",
    "\n",
    "import matplotlib.pyplot as plt\n",
    "%matplotlib inline\n",
    "import numpy as np\n",
    "import pandas as pd\n",
    "import glob\n",
    "\n",
    "from skimage.filters.rank import entropy\n",
    "from scipy import stats\n",
    "from skimage.morphology import disk\n",
    "from skimage import io\n",
    "from skimage.filters import threshold_otsu"
   ]
  },
  {
   "cell_type": "code",
   "execution_count": null,
   "metadata": {},
   "outputs": [],
   "source": [
    "def img_reading(path):\n",
    "    \"\"\"\n",
    "    Reads images in several folders in a directory, thresholds them and applies entropy.\n",
    "    \n",
    "    Parameters\n",
    "    ----------\n",
    "    conc: string, concentration used for the images\n",
    "    path: string, path to the directory where all the folder containing images are saved\n",
    "    \n",
    "    Returns\n",
    "    ----------\n",
    "    A dictionary whose key is the concentration and values are the measured gaps of the images\n",
    "    \"\"\"\n",
    "    \n",
    "    final = {}\n",
    "    for folders in os.listdir(path):\n",
    "        measures = []\n",
    "        for imgs in glob.glob(path + folders + \"/*.*\"):\n",
    "            img = io.imread(imgs, as_gray = True)\n",
    "            entropy_img = entropy(img, disk(10))\n",
    "            thresh = threshold_otsu(entropy_img)\n",
    "            binary = entropy_img <= thresh\n",
    "            measures.append(np.sum(binary == 1))\n",
    "            \n",
    "        final[folders] = measures\n",
    "        \n",
    "    return final"
   ]
  }
 ],
 "metadata": {
  "kernelspec": {
   "display_name": "Python 3",
   "language": "python",
   "name": "python3"
  },
  "language_info": {
   "codemirror_mode": {
    "name": "ipython",
    "version": 3
   },
   "file_extension": ".py",
   "mimetype": "text/x-python",
   "name": "python",
   "nbconvert_exporter": "python",
   "pygments_lexer": "ipython3",
   "version": "3.8.3"
  }
 },
 "nbformat": 4,
 "nbformat_minor": 4
}
