{
 "cells": [
  {
   "cell_type": "code",
   "execution_count": null,
   "metadata": {},
   "outputs": [],
   "source": [
    "# import necessary libraries\n",
    "\n",
    "import matplotlib.pyplot as plt\n",
    "%matplotlib inline\n",
    "import numpy as np\n",
    "import pandas as pd\n",
    "import glob\n",
    "\n",
    "from skimage.filters.rank import entropy\n",
    "from scipy import stats\n",
    "from skimage.morphology import disk\n",
    "from skimage import io\n",
    "from skimage.filters import threshold_otsu"
   ]
  },
  {
   "cell_type": "code",
   "execution_count": null,
   "metadata": {},
   "outputs": [],
   "source": [
    "def img_reading(path):\n",
    "    \"\"\"\n",
    "    Reads images in several folders in a directory, thresholds them and applies entropy.\n",
    "    \n",
    "    Parameters\n",
    "    ----------\n",
    "    conc: string, concentration used for the images\n",
    "    path: string, path to the directory where all the folder containing images are saved\n",
    "    \n",
    "    Returns\n",
    "    ----------\n",
    "    A dictionary whose key is the concentration and values are the measured gaps of the images\n",
    "    \"\"\"\n",
    "    \n",
    "    final = {}\n",
    "    for folders in os.listdir(path):\n",
    "        measures = []\n",
    "        for imgs in glob.glob(path + folders + \"/*.*\"):\n",
    "            img = io.imread(imgs, as_gray = True)\n",
    "            entropy_img = entropy(img, disk(10))\n",
    "            thresh = threshold_otsu(entropy_img)\n",
    "            binary = entropy_img <= thresh\n",
    "            measures.append(np.sum(binary == 1))\n",
    "            \n",
    "        final[folders] = measures\n",
    "        \n",
    "    return final"
   ]
  },
  {
   "cell_type": "code",
   "execution_count": null,
   "metadata": {},
   "outputs": [],
   "source": [
    "def file_conversion(conc, measurements, file_name):\n",
    "    \"\"\"\n",
    "    Saves the measrued data into a text and csv files.\n",
    "    \n",
    "    Parameters\n",
    "    ----------\n",
    "    conc: string, concentration of used on the images\n",
    "    measureements: dict, provided by img_reading function\n",
    "    file_name: string, name of the saved file\n",
    "    \n",
    "    Returns\n",
    "    ----------\n",
    "    Text and csv files in the directory\n",
    "    \"\"\"\n",
    "    \n",
    "    file = open(file_name + \".txt\", \"a\")\n",
    "    file.write(conc)\n",
    "    file.write(\":\\n\")\n",
    "    for k1, v1 in measurements.items():\n",
    "        file.write(k1)\n",
    "        file.write(\":\")\n",
    "        file.write(str(v1))\n",
    "        file.write(\"\\n\")\n",
    "        \n",
    "    file.write(\"\\n\\n\")\n",
    "    file.close()\n",
    "    \n",
    "    df = pd.DataFrame({conc: measurements})\n",
    "    df.to_csv(file_name + \".csv\", mode = \"a\")"
   ]
  }
 ],
 "metadata": {
  "kernelspec": {
   "display_name": "Python 3",
   "language": "python",
   "name": "python3"
  },
  "language_info": {
   "codemirror_mode": {
    "name": "ipython",
    "version": 3
   },
   "file_extension": ".py",
   "mimetype": "text/x-python",
   "name": "python",
   "nbconvert_exporter": "python",
   "pygments_lexer": "ipython3",
   "version": "3.8.3"
  }
 },
 "nbformat": 4,
 "nbformat_minor": 4
}
