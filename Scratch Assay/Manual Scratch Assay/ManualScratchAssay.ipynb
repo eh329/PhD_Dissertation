{
 "cells": [
  {
   "cell_type": "code",
   "execution_count": null,
   "metadata": {},
   "outputs": [],
   "source": [
    "\"\"\"\n",
    "    This script is for manual sratch assay with only image sets from two different times.\n",
    "    The first set is obviously from time zero. The second set should be from the end of the experiment.\n",
    "    Each image set should be in a different folder. The the address of each folder should be given to the functions,\n",
    "    not the images themselvs.\n",
    "\n",
    "\"\"\""
   ]
  },
  {
   "cell_type": "code",
   "execution_count": null,
   "metadata": {},
   "outputs": [],
   "source": [
    "# import necessary libraries\n",
    "\n",
    "import matplotlib.pyplot as plt\n",
    "import numpy as np\n",
    "import pandas as pd\n",
    "import glob\n",
    "from skimage.filters.rank import entropy\n",
    "from skimage.morphology import disk\n",
    "from skimage import io\n",
    "from skimage.filters import threshold_otsu"
   ]
  },
  {
   "cell_type": "code",
   "execution_count": null,
   "metadata": {},
   "outputs": [],
   "source": [
    "def image_sets(path):\n",
    "    \"\"\"\n",
    "    Reads all the images in a folder as grey images.\n",
    "    \n",
    "    Parameters\n",
    "    ----------\n",
    "    path: The address of the folder containing all the image. It mush have '/' \n",
    "    in the end of it.\n",
    "    \n",
    "    Returns\n",
    "    ----------\n",
    "    A list of all images read in grey scale \n",
    "        \n",
    "    \"\"\"\n",
    "    return [io.imread(file, as_gray = True) for file in glob.glob(path + \"*.*\")]"
   ]
  },
  {
   "cell_type": "code",
   "execution_count": null,
   "metadata": {},
   "outputs": [],
   "source": [
    "def entropy_img(images):\n",
    "    \"\"\"\n",
    "    Reads all the images in a list and labels the areas with lower entropy.\n",
    "    \n",
    "    Parameters\n",
    "    ----------\n",
    "    images: The list of images read in grey scale provided by \n",
    "    the image_sets function.\n",
    "    \n",
    "    Returns\n",
    "    ----------\n",
    "    A list of all images with theor areas of low entropy labeled.\n",
    "    \"\"\"\n",
    "    \n",
    "    return [entropy(img, disk(10)) for img in images] "
   ]
  },
  {
   "cell_type": "code",
   "execution_count": null,
   "metadata": {},
   "outputs": [],
   "source": [
    "def threshold(entropy_images):\n",
    "    \"\"\"\n",
    "    Reads all the images from a list and threshold them.\n",
    "    \n",
    "    Parameters\n",
    "    ----------\n",
    "    entropy_images: The list of images labeled by entropy function provided\n",
    "    by the entropy_img function.\n",
    "    \n",
    "    Returns\n",
    "    ----------\n",
    "    A list of thresholded images.\n",
    "    \"\"\"\n",
    "    \n",
    "    return [threshold_otsu(ent_img) for ent_img in entropy_images]"
   ]
  },
  {
   "cell_type": "code",
   "execution_count": null,
   "metadata": {},
   "outputs": [],
   "source": [
    "def gap_area(thresh_img, entropy_images):\n",
    "    \"\"\"\n",
    "    Measures the gap areas in a list of images.\n",
    "    \n",
    "    Parameters\n",
    "    ----------\n",
    "    thresh_img: List of thresholded images provided by threshold function.\n",
    "    entropy_images: List of images labeled by entropy function provided \n",
    "                    by entropy_img function.\n",
    "                    \n",
    "    Returns\n",
    "    ----------\n",
    "    A list containing the gap areas in pixels\n",
    "    \"\"\"\n",
    "    \n",
    "    return [np.sum((ent <= thr) == 1) for ent, thr in zip(entropy_images, thresh_img)]"
   ]
  },
  {
   "cell_type": "code",
   "execution_count": null,
   "metadata": {},
   "outputs": [],
   "source": [
    "def gap_diff(time_first, time_last, concs):\n",
    "    \"\"\"\n",
    "    Measures difference of gap areas bewteen time first (time 0) and time last.\n",
    "    \n",
    "    Parameters\n",
    "    ----------\n",
    "    time_first: List containing the gap areas of the images in time first (time 0).\n",
    "    time_last: List containing the gap areas of the images in the time last.\n",
    "    concs: List containing the concentrations used in the experiment.\n",
    "    \n",
    "    Returns\n",
    "    ----------\n",
    "    A dictionary whose keys are the concentraions and valuse are the difference between\n",
    "    the gap areas between time first (time 0) and time last.\n",
    "    \"\"\"\n",
    "    \n",
    "    return {x: abs(y - z) for x, y, z in zip(concs, time_first, time_last)}"
   ]
  },
  {
   "cell_type": "code",
   "execution_count": null,
   "metadata": {},
   "outputs": [],
   "source": [
    "def dot_plot(diff_dict, title, file_name):\n",
    "    \"\"\"\n",
    "    Plot a dot plot from dictionary\n",
    "    \n",
    "    Parameters\n",
    "    ----------\n",
    "    diff_dict: Dictionary provdided by gap_diff function\n",
    "    title: Title for the plot\n",
    "    file_name: Name for saving the file. By default the format is png. \n",
    "    \n",
    "    Returns\n",
    "    ----------\n",
    "    A plot whose y axis values are the values of the dictionary and x axis values are the values\n",
    "    othe the dictionary.\n",
    "    \"\"\"\n",
    "    \n",
    "    normalized = [((num - min(diff_dict.values())) / (max(diff_dict.values()) - min(diff_dict.values())) + 1) for num in diff_dict.values()]\n",
    "    plt.plot(diff_dict.keys(), normalized, \"bo\")\n",
    "    plt.title(title)\n",
    "    return plt.savefig(file_name)"
   ]
  },
  {
   "cell_type": "code",
   "execution_count": null,
   "metadata": {},
   "outputs": [],
   "source": [
    "def bar_plot(diff_dict, title, file_name):\n",
    "    \"\"\"\n",
    "    Plot a bar plot from dictionary\n",
    "    \n",
    "    Parameters\n",
    "    ----------\n",
    "    diff_dict: Dictionary provdided by gap_diff function\n",
    "    title: Title for the plot\n",
    "    file_name: Name for saving the file. By default the format is png. \n",
    "    \n",
    "    Returns\n",
    "    ----------\n",
    "    A plot whose y axis values are the values of the dictionary and x axis values are the values\n",
    "    othe the dictionary.\n",
    "    \"\"\"\n",
    "    \n",
    "    plot = pd.Series(diff_dict.values(), index = diff_dict.keys()).plot(kind = \"bar\", yerr = np.std([*diff_dict.values()]), title = title, rot = 0).get_figure()\n",
    "    return plot.savefig(file_name)"
   ]
  }
 ],
 "metadata": {
  "kernelspec": {
   "display_name": "Python 3",
   "language": "python",
   "name": "python3"
  },
  "language_info": {
   "codemirror_mode": {
    "name": "ipython",
    "version": 3
   },
   "file_extension": ".py",
   "mimetype": "text/x-python",
   "name": "python",
   "nbconvert_exporter": "python",
   "pygments_lexer": "ipython3",
   "version": "3.8.3"
  }
 },
 "nbformat": 4,
 "nbformat_minor": 4
}
