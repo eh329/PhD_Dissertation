{
 "cells": [
  {
   "cell_type": "code",
   "execution_count": null,
   "metadata": {},
   "outputs": [],
   "source": [
    "# import necessary libraries\n",
    "\n",
    "import matplotlib.pyplot as plt\n",
    "import numpy as np\n",
    "import pandas as pd\n",
    "import glob\n",
    "from skimage.filters.rank import entropy\n",
    "from skimage.morphology import disk\n",
    "from skimage import io\n",
    "from skimage.filters import threshold_otsu"
   ]
  },
  {
   "cell_type": "code",
   "execution_count": null,
   "metadata": {},
   "outputs": [],
   "source": [
    "def starting_time(path):\n",
    "    \"\"\"\n",
    "    Measures the gap areas in all the images in a folder\n",
    "    \n",
    "    Parameters\n",
    "    ----------\n",
    "    path: path of the folder containing the images from time 0.\n",
    "    \n",
    "    Returns\n",
    "    ----------\n",
    "    A list containing the gap areas of the images in order.\n",
    "    \"\"\"\n",
    "\n",
    "    time = 0\n",
    "    time_0 = []\n",
    "\n",
    "    for file in glob.glob(path):\n",
    "    \n",
    "        img = io.imread(file, as_gray = True)\n",
    "        entropy_img = entropy(img, disk(10))\n",
    "        thresh = threshold_otsu(entropy_img)\n",
    "        binary = entropy_img <= thresh\n",
    "        time_0.append(np.sum(binary == 1))\n",
    "        time += 1\n",
    "        \n",
    "    return time_0"
   ]
  }
 ],
 "metadata": {
  "kernelspec": {
   "display_name": "Python 3",
   "language": "python",
   "name": "python3"
  },
  "language_info": {
   "codemirror_mode": {
    "name": "ipython",
    "version": 3
   },
   "file_extension": ".py",
   "mimetype": "text/x-python",
   "name": "python",
   "nbconvert_exporter": "python",
   "pygments_lexer": "ipython3",
   "version": "3.8.3"
  }
 },
 "nbformat": 4,
 "nbformat_minor": 4
}
