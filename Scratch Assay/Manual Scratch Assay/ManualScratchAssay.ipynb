{
 "cells": [
  {
   "cell_type": "code",
   "execution_count": null,
   "metadata": {},
   "outputs": [],
   "source": [
    "\"\"\"\n",
    "    This script is for manual sratch assay with only image sets from two different times.\n",
    "    The first set is obviously from time zero. The second set should be from the end of the experiment.\n",
    "    Each image set should be in a different folder. The the address of each folder should be given to the functions,\n",
    "    not the images themselvs.\n",
    "\n",
    "\"\"\""
   ]
  },
  {
   "cell_type": "code",
   "execution_count": null,
   "metadata": {},
   "outputs": [],
   "source": [
    "# import necessary libraries\n",
    "\n",
    "import matplotlib.pyplot as plt\n",
    "import numpy as np\n",
    "import pandas as pd\n",
    "import glob\n",
    "from skimage.filters.rank import entropy\n",
    "from skimage.morphology import disk\n",
    "from skimage import io\n",
    "from skimage.filters import threshold_otsu"
   ]
  },
  {
   "cell_type": "code",
   "execution_count": null,
   "metadata": {},
   "outputs": [],
   "source": [
    "def image_sets(path):\n",
    "    \"\"\"\n",
    "    Reads all the images in a folder as grey images.\n",
    "    \n",
    "    Parameters\n",
    "    ----------\n",
    "    path: The address of the folder containing all the image. It mush have '/' \n",
    "    in the end of it.\n",
    "    \n",
    "    Returns\n",
    "    ----------\n",
    "    A list of all images read in grey scale \n",
    "        \n",
    "    \"\"\"\n",
    "    return [io.imread(file, as_gray = True) for file in glob.glob(path + \"*\")]"
   ]
  }
 ],
 "metadata": {
  "kernelspec": {
   "display_name": "Python 3",
   "language": "python",
   "name": "python3"
  },
  "language_info": {
   "codemirror_mode": {
    "name": "ipython",
    "version": 3
   },
   "file_extension": ".py",
   "mimetype": "text/x-python",
   "name": "python",
   "nbconvert_exporter": "python",
   "pygments_lexer": "ipython3",
   "version": "3.8.3"
  }
 },
 "nbformat": 4,
 "nbformat_minor": 4
}
