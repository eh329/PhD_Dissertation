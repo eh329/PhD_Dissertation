{
 "cells": [
  {
   "cell_type": "code",
   "execution_count": null,
   "metadata": {},
   "outputs": [],
   "source": [
    "# Import the libraries\n",
    "\n",
    "import os\n",
    "import glob\n",
    "import cv2\n",
    "import numpy as np\n",
    "import skimage.util\n",
    "from skimage import io, img_as_float\n",
    "from skimage.restoration import denoise_nl_means, estimate_sigma\n",
    "from skimage import exposure"
   ]
  },
  {
   "cell_type": "code",
   "execution_count": null,
   "metadata": {},
   "outputs": [],
   "source": [
    "# Separate the images in folders with their dye names. Example: Dapi images in a folder named Dapi (or dapi),\n",
    "#       TexaasRed images in a folder named Texased (or texasred, but not texas red) and so on. \n",
    "# Run the function below\n",
    "\n",
    "def folders(names):\n",
    "    \"\"\"\n",
    "    Creates Empty folders for saving contartsed images whose names start with strings in names and end with _Contrast.\n",
    "    \n",
    "    Parameters\n",
    "    ----------\n",
    "    names: A list containing the names of all the dyes used in the experiment.\n",
    "    \n",
    "    Returns\n",
    "    ----------\n",
    "    Empty folders in the directory.\n",
    "    \"\"\"\n",
    "    for name in names:\n",
    "        os.mkdir(name.upper() + \"_Contrast\")"
   ]
  }
 ],
 "metadata": {
  "kernelspec": {
   "display_name": "Python 3",
   "language": "python",
   "name": "python3"
  },
  "language_info": {
   "codemirror_mode": {
    "name": "ipython",
    "version": 3
   },
   "file_extension": ".py",
   "mimetype": "text/x-python",
   "name": "python",
   "nbconvert_exporter": "python",
   "pygments_lexer": "ipython3",
   "version": "3.8.3"
  }
 },
 "nbformat": 4,
 "nbformat_minor": 4
}
