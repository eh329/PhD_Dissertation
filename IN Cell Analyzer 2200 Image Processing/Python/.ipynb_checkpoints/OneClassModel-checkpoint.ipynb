{
 "cells": [
  {
   "cell_type": "markdown",
   "metadata": {},
   "source": [
    "## Implementation of this paper:\n",
    "#### https://cs.nju.edu.cn/zhouzh/zhouzh.files/publication/tkdd11.pdf"
   ]
  },
  {
   "cell_type": "code",
   "execution_count": 2,
   "metadata": {},
   "outputs": [],
   "source": [
    "import numpy as np\n",
    "import cv2\n",
    "import glob\n",
    "import pickle\n",
    "import pandas as pd\n",
    "\n",
    "from imutils import paths\n",
    "from sklearn.ensemble import IsolationForest"
   ]
  },
  {
   "cell_type": "code",
   "execution_count": null,
   "metadata": {},
   "outputs": [],
   "source": [
    "def normalize_img(image, bins = (4, 6, 3)):\n",
    "    \"\"\"\n",
    "    Takes an image and resuces its dimensionality.\n",
    "    This function was written as an alternative to using PCA.\n",
    "    \n",
    "    Parameters\n",
    "    ----------\n",
    "    image: The merged microcopy image in the folder\n",
    "    bins: Required for histogram and measuring pixel intesitiy\n",
    "    \n",
    "    Returns\n",
    "    ----------\n",
    "    A flattened image with one dimension\n",
    "    \"\"\"\n",
    "    \n",
    "    hist = cv2.calcHist([image], [0, 1, 2], None, bins,\n",
    "                       [0, 180, 0, 256, 0, 256])\n",
    "    hist = cv2.normalize(hist, hist).flatten()\n",
    "    return hist"
   ]
  },
  {
   "cell_type": "code",
   "execution_count": null,
   "metadata": {},
   "outputs": [],
   "source": [
    "def dataset_preparation(path):\n",
    "    \"\"\"\n",
    "    Reads merged images, transform them to HSV images and then reduces their dimensionality\n",
    "    \n",
    "    Parameters\n",
    "    ----------\n",
    "    path: Path to the training images with / in the end \n",
    "    \n",
    "    Returns\n",
    "    ----------\n",
    "    HSV images with reduced dimensionality\n",
    "    \"\"\"\n",
    "    \n",
    "    final_path = path + \"*.*\" \n",
    "    colored_imgs = [cv2.cvtColor(cv2.imread(img), cv2.COLOR_BGR2HSV) for img in glob.glob(final_path)]\n",
    "    return np.array(list(map(normalize_img, colored_imgs)))"
   ]
  },
  {
   "cell_type": "code",
   "execution_count": null,
   "metadata": {},
   "outputs": [],
   "source": [
    "data = dataset_preparation(path)\n",
    "model = IsolationForest(n_estimators = 100, contamination = 0.01,\n",
    "                       random_state = 42)\n",
    "\n",
    "model.fit(data)\n",
    "scores = model.predict(data)"
   ]
  },
  {
   "cell_type": "code",
   "execution_count": null,
   "metadata": {},
   "outputs": [],
   "source": [
    "model_file = open(\"OneClassIF.pkl\", \"wb\")\n",
    "pickle.dump(model, model_file)"
   ]
  },
  {
   "cell_type": "code",
   "execution_count": null,
   "metadata": {},
   "outputs": [],
   "source": [
    "result = pd.DataFrame(index = np.arange(1, len(scores), 1), columns = [\"Outlier\", \"Normal\"])\n",
    "\n",
    "for index, value in enumerate(scores, start = 1):\n",
    "    if value == 1:\n",
    "        result.loc[index] = [0, 1]\n",
    "        \n",
    "    else:\n",
    "        result.loc[index] = [-1, 0]"
   ]
  },
  {
   "cell_type": "code",
   "execution_count": null,
   "metadata": {},
   "outputs": [],
   "source": [
    "result.to_csv(path, name)"
   ]
  }
 ],
 "metadata": {
  "kernelspec": {
   "display_name": "Python 3 (ipykernel)",
   "language": "python",
   "name": "python3"
  },
  "language_info": {
   "codemirror_mode": {
    "name": "ipython",
    "version": 3
   },
   "file_extension": ".py",
   "mimetype": "text/x-python",
   "name": "python",
   "nbconvert_exporter": "python",
   "pygments_lexer": "ipython3",
   "version": "3.10.3"
  }
 },
 "nbformat": 4,
 "nbformat_minor": 4
}
