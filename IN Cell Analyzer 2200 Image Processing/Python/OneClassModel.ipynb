{
 "cells": [
  {
   "cell_type": "code",
   "execution_count": null,
   "metadata": {},
   "outputs": [],
   "source": [
    "import numpy as np\n",
    "import cv2\n",
    "import glob\n",
    "import pickle\n",
    "import pandas as pd\n",
    "\n",
    "from imutils import paths\n",
    "from sklearn.ensemble import IsolationForest"
   ]
  },
  {
   "cell_type": "code",
   "execution_count": null,
   "metadata": {},
   "outputs": [],
   "source": [
    "def normalize_img(image, bins = (4, 6, 3)):\n",
    "    \"\"\"\n",
    "    Takes an image and resuces its dimensionality.\n",
    "    This function was written as an alternative to using PCA.\n",
    "    \n",
    "    Parameters\n",
    "    ----------\n",
    "    image: The merged microcopy image in the folder\n",
    "    bins: Required for histogram and measuring pixel intesitiy\n",
    "    \n",
    "    Returns\n",
    "    ----------\n",
    "    A flattened image with one dimension\n",
    "    \"\"\"\n",
    "    \n",
    "    hist = cv2.calcHist([image], [0, 1, 2], None, bins,\n",
    "                       [0, 180, 0, 256, 0, 256])\n",
    "    hist = cv2.normalize(hist, hist).flatten()\n",
    "    return hist"
   ]
  },
  {
   "cell_type": "code",
   "execution_count": null,
   "metadata": {},
   "outputs": [],
   "source": [
    "def dataset_preparation(path):\n",
    "    \"\"\"\n",
    "    Reads merged images, transform them to HSV images and then reduces their dimensionality\n",
    "    \n",
    "    Parameters\n",
    "    ----------\n",
    "    path: Path to the training images with / in the end \n",
    "    \n",
    "    Returns\n",
    "    ----------\n",
    "    HSV images with reduced dimensionality\n",
    "    \"\"\"\n",
    "    \n",
    "    final_path = path + \"*.*\" \n",
    "    colored_imgs = [cv2.cvtColor(cv2.imread(img), cv2.COLOR_BGR2HSV) for img in glob.glob(final_path)]\n",
    "    return np.array(list(map(normalize_img, colored_imgs)))"
   ]
  }
 ],
 "metadata": {
  "kernelspec": {
   "display_name": "Python 3",
   "language": "python",
   "name": "python3"
  },
  "language_info": {
   "codemirror_mode": {
    "name": "ipython",
    "version": 3
   },
   "file_extension": ".py",
   "mimetype": "text/x-python",
   "name": "python",
   "nbconvert_exporter": "python",
   "pygments_lexer": "ipython3",
   "version": "3.8.3"
  }
 },
 "nbformat": 4,
 "nbformat_minor": 4
}
