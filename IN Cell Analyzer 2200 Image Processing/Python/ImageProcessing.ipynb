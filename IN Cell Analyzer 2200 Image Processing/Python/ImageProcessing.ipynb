{
 "cells": [
  {
   "cell_type": "code",
   "execution_count": null,
   "metadata": {},
   "outputs": [],
   "source": [
    "# Import the libraries\n",
    "\n",
    "import os\n",
    "import glob\n",
    "import cv2\n",
    "import numpy as np\n",
    "import skimage.util\n",
    "from skimage import io, img_as_float\n",
    "from skimage.restoration import denoise_nl_means, estimate_sigma\n",
    "from skimage import exposure"
   ]
  },
  {
   "cell_type": "code",
   "execution_count": null,
   "metadata": {},
   "outputs": [],
   "source": [
    "# Separate the images in folders with their dye names. Example: Dapi images in a folder named Dapi (or dapi),\n",
    "#       TexaasRed images in a folder named Texased (or texasred, but not texas red) and so on. \n",
    "# Run the function below\n",
    "\n",
    "def folders(names):\n",
    "    \"\"\"\n",
    "    Creates Empty folders for saving contartsed images whose names start with strings in names and end with _Contrast.\n",
    "    \n",
    "    Parameters\n",
    "    ----------\n",
    "    names: A list containing the names of all the dyes used in the experiment.\n",
    "    \n",
    "    Returns\n",
    "    ----------\n",
    "    Empty folders in the directory.\n",
    "    \"\"\"\n",
    "    for name in names:\n",
    "        os.mkdir(name.upper() + \"_Contrast\")"
   ]
  },
  {
   "cell_type": "markdown",
   "metadata": {},
   "source": [
    "# First Method Only for DAPI Images (Slow)"
   ]
  },
  {
   "cell_type": "code",
   "execution_count": null,
   "metadata": {},
   "outputs": [],
   "source": [
    "# Going through the raw images in each folder\n",
    "# Improve the contrast for each image and save the new image in the respective folder with _Contrast suffix\n",
    "\n",
    "def dapi_slow(raw_img_directory, contrast_img_directory):\n",
    "    \"\"\"\n",
    "    Reads images from a DAPI folder and saves the contrasted ones in a another folder.\n",
    "    \n",
    "    Parameters\n",
    "    ----------\n",
    "    raw_img_directory: Address of the raw DAPI images with '/' in the end.\n",
    "    contrast_img_directory: Adrress of the folder where new images will be saved with _Contrast prefix. \n",
    "    \n",
    "    Returns\n",
    "    ----------\n",
    "    Contrasted images\n",
    "    \"\"\"\n",
    "    path = raw_img_directory + \"/*.*\"\n",
    "    counter = 0\n",
    "    \n",
    "    for image in glob.glob(path):\n",
    "        \n",
    "        img = img_as_float(io.imread(image))\n",
    "        sigma_est = np.mean(estimate_sigma(img, multichannel = True))\n",
    "        patch_kw = dict(patch_size = 5, patch_distance = 6, multichannel = True)\n",
    "        denoise_img = denoise_nl_means(img, h = 15 * sigma_est, fast_mode = True,\n",
    "                        ** patch_kw)\n",
    "        eq_img = exposure.equalize_adapthist(denoise_img)\n",
    "        final = skimage.util.img_as_ubyte(eq_img)\n",
    "        new_path = contrast_img_directory + \"/\" + os.listdir(\"DAPI\")[counter]\n",
    "        cv2.imwrite(new_path, final)\n",
    "        counter += 1"
   ]
  },
  {
   "cell_type": "markdown",
   "metadata": {},
   "source": [
    "# Second Method for All Images (Fast)"
   ]
  },
  {
   "cell_type": "code",
   "execution_count": null,
   "metadata": {},
   "outputs": [],
   "source": [
    "def contrast(raw_img_directory, contrast_img_directory):\n",
    "    \"\"\"\n",
    "    Reads images from any folder and saves the contrasted ones in a another folder.\n",
    "    \n",
    "    Parameters\n",
    "    ----------\n",
    "    raw_img_directory: Address of the raw images with '/' in the end.\n",
    "    contrast_img_directory: Adrress of the folder where new images will be saved with _Contrast prefix. \n",
    "    \n",
    "    Returns\n",
    "    ----------\n",
    "    Contrasted images\n",
    "    \"\"\"\n",
    "    path = raw_img_directory + \"/*.*\"\n",
    "    dye = raw_img_directory.split(\"/\")[0]\n",
    "    counter = 0\n",
    "    \n",
    "    for image in glob.glob(path):\n",
    "        img = cv2.imread(image, 1)\n",
    "        lab = cv2.cvtColor(img, cv2.COLOR_BGR2LAB)\n",
    "        B, G, R = cv2.split(lab)\n",
    "        clahe = cv2.createCLAHE(clipLimit=3.0, tileGridSize=(8,8))\n",
    "        cl = clahe.apply(B)\n",
    "        final = cv2.cvtColor(cv2.merge((cl, G, R)), cv2.COLOR_LAB2BGR)\n",
    "        new_path = contrast_img_directory + \"/\" + os.listdir(dye)[counter]\n",
    "        cv2.imwrite(new_path, final)\n",
    "        counter += 1"
   ]
  }
 ],
 "metadata": {
  "kernelspec": {
   "display_name": "Python 3",
   "language": "python",
   "name": "python3"
  },
  "language_info": {
   "codemirror_mode": {
    "name": "ipython",
    "version": 3
   },
   "file_extension": ".py",
   "mimetype": "text/x-python",
   "name": "python",
   "nbconvert_exporter": "python",
   "pygments_lexer": "ipython3",
   "version": "3.8.3"
  }
 },
 "nbformat": 4,
 "nbformat_minor": 4
}
